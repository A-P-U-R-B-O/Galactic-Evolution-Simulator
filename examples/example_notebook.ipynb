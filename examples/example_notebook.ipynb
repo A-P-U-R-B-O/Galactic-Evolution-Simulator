```json
{
 "cells": [
  {
   "cell_type": "markdown",
   "metadata": {},
   "source": [
    "# Galactic Evolution Simulator: Example Usage\n",
    "\n",
    "This notebook demonstrates advanced usage of the Galactic Evolution Simulator Python package. You can run parameter sweeps, visualize evolution, and analyze galaxy properties.\n"
   ]
  },
  {
   "cell_type": "code",
   "metadata": {},
   "source": [
    "# Import simulator modules\n",
    "import numpy as np\n",
    "import matplotlib.pyplot as plt\n",
    "from galacticsim.galaxy import Galaxy\n",
    "from galacticsim.core import run_simulation, SimulationConfig\n",
    "from galacticsim.visualization import plot_galaxy, plot_density_map, plot_time_series, animate_galaxy\n",
    "from galacticsim.parameters import get_parameters, parameter_summary\n",
    "from galacticsim.utils import get_masses, shift_to_center_of_mass_frame, compute_radial_profile, velocity_dispersion\n"
   ],
   "execution_count": null,
   "outputs": []
  },
  {
   "cell_type": "markdown",
   "metadata": {},
   "source": [
    "## 1. Configure Simulation Parameters\n",
    "\n",
    "You can use a preset or customize parameters:"
   ]
  },
  {
   "cell_type": "code",
   "metadata": {},
   "source": [
    "# Use Milky Way preset and override some parameters\n",
    "params = get_parameters(\n",
    "    preset=\"Milky Way\",\n",
    "    num_particles=1200,\n",
    "    timesteps=100,\n",
    "    dt=0.05,\n",
    "    seed=42\n",
    ")\n",
    "print(parameter_summary(params))"
   ],
   "execution_count": null,
   "outputs": []
  },
  {
   "cell_type": "markdown",
   "metadata": {},
   "source": [
    "## 2. Initialize Galaxy\n"
   ]
  },
  {
   "cell_type": "code",
   "metadata": {},
   "source": [
    "# Create galaxy object\n",
    "galaxy = Galaxy(\n",
    "    num_particles=params[\"num_particles\"],\n",
    "    galaxy_type=params[\"galaxy_type\"],\n",
    "    dark_matter_fraction=params[\"dark_matter_fraction\"],\n",
    "    gas_fraction=params[\"gas_fraction\"],\n",
    "    disk_scale_length=params[\"disk_scale_length\"],\n",
    "    bulge_fraction=params[\"bulge_fraction\"],\n",
    "    velocity_dispersion=params[\"velocity_dispersion\"],\n",
    "    rotation_curve=params[\"rotation_curve\"],\n",
    "    seed=params[\"seed\"],\n",
    ")\n",
    "\n",
    "# Optionally, shift to center-of-mass frame\n",
    "galaxy.positions, galaxy.velocities = shift_to_center_of_mass_frame(\n",
    "    galaxy.positions, galaxy.velocities, galaxy.masses\n",
    ")"
   ],
   "execution_count": null,
   "outputs": []
  },
  {
   "cell_type": "markdown",
   "metadata": {},
   "source": [
    "## 3. Visualize Initial Galaxy\n"
   ]
  },
  {
   "cell_type": "code",
   "metadata": {},
   "source": [
    "fig1 = plot_galaxy(galaxy.positions, types=galaxy.types, title=\"Initial Galaxy State\")\n",
    "plt.show()\n",
    "\n",
    "fig2 = plot_density_map(galaxy.positions, title=\"Initial Density Map\")\n",
    "plt.show()"
   ],
   "execution_count": null,
   "outputs": []
  },
  {
   "cell_type": "markdown",
   "metadata": {},
   "source": [
    "## 4. Run Simulation\n"
   ]
  },
  {
   "cell_type": "code",
   "metadata": {},
   "source": [
    "config = SimulationConfig(\n",
    "    steps=params[\"timesteps\"],\n",
    "    dt=params[\"dt\"],\n",
    "    softening=params[\"softening\"],\n",
    "    integrate_method=params[\"integrate_method\"],\n",
    "    star_formation=True,\n",
    "    feedback=True,\n",
    "    feedback_efficiency=params[\"feedback_strength\"],\n",
    "    SFR_threshold=params[\"SFR_threshold\"],\n",
    "    cooling=True,\n",
    "    cooling_rate=params[\"cooling_rate\"],\n",
    "    verbose=True\n",
    ")\n",
    "\n",
    "history = run_simulation(\n",
    "    galaxy.positions,\n",
    "    galaxy.velocities,\n",
    "    galaxy.masses,\n",
    "    config,\n",
    "    gas_mass=galaxy.gas_mass,\n",
    "    gas_density=galaxy.gas_density,\n",
    "    gas_temperature=galaxy.gas_temperature\n",
    ")"
   ],
   "execution_count": null,
   "outputs": []
  },
  {
   "cell_type": "markdown",
   "metadata": {},
   "source": [
    "## 5. Visualize Galaxy Evolution\n"
   ]
  },
  {
   "cell_type": "code",
   "metadata": {},
   "source": [
    "# Final state\n",
    "fig3 = plot_galaxy(history[\"positions\"][-1], types=galaxy.types, title=\"Final Galaxy State\")\n",
    "plt.show()\n",
    "\n",
    "# Animate (in notebook)\n",
    "anim = animate_galaxy(history, types=galaxy.types, interval=50)\n",
    "from IPython.display import HTML\n",
    "HTML(anim.to_jshtml())"
   ],
   "execution_count": null,
   "outputs": []
  },
  {
   "cell_type": "markdown",
   "metadata": {},
   "source": [
    "## 6. Plot Physical Properties Over Time\n"
   ]
  },
  {
   "cell_type": "code",
   "metadata": {},
   "source": [
    "fig4 = plot_time_series(\n",
    "    history[\"time\"],\n",
    "    star_mass=history[\"star_mass\"],\n",
    "    gas_mass=history[\"gas_mass\"],\n",
    "    gas_temperature=history[\"gas_temperature\"],\n",
    "    kinetic_energy=history[\"kinetic_energy\"],\n",
    "    potential_energy=history[\"potential_energy\"],\n",
    ")\n",
    "plt.show()"
   ],
   "execution_count": null,
   "outputs": []
  },
  {
   "cell_type": "markdown",
   "metadata": {},
   "source": [
    "## 7. Analyze Radial Mass Profile and Velocity Dispersion\n"
   ]
  },
  {
   "cell_type": "code",
   "metadata": {},
   "source": [
    "# Radial profile and velocity dispersion at final state\n",
    "from galacticsim.utils import compute_radial_profile, velocity_dispersion\n",
    "\n",
    "radii, enclosed_mass, surf_density = compute_radial_profile(\n",
    "    history[\"positions\"][-1], galaxy.masses, nbins=30\n",
    ")\n",
    "disp = velocity_dispersion(history[\"velocities\"][-1], types=galaxy.types, component=\"star\")\n",
    "\n",
    "plt.figure(figsize=(6, 4))\n",
    "plt.plot(radii, enclosed_mass, label=\"Enclosed Mass\")\n",
    "plt.xlabel(\"Radius [kpc]\")\n",
    "plt.ylabel(\"Enclosed Mass [a.u.]\")\n",
    "plt.title(\"Radial Mass Profile\")\n",
    "plt.legend()\n",
    "plt.show()\n",
    "\n",
    "print(f\"Final stellar velocity dispersion: {disp}\")"
   ],
   "execution_count": null,
   "outputs": []
  }
 ],
 "metadata": {
  "kernelspec": {
   "display_name": "Python 3",
   "language": "python",
   "name": "python3"
  },
  "language_info": {
   "name": "python",
   "version": ""
  }
 },
 "nbformat": 4,
 "nbformat_minor": 2
}
```
